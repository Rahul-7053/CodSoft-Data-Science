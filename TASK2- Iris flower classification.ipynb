{
 "cells": [
  {
   "cell_type": "code",
   "execution_count": 144,
   "id": "3f035bab",
   "metadata": {},
   "outputs": [],
   "source": [
    "import numpy as np\n",
    "import pandas as pd\n",
    "import matplotlib.pyplot as plt\n",
    "import seaborn as sns"
   ]
  },
  {
   "cell_type": "code",
   "execution_count": 145,
   "id": "ca17ee6c",
   "metadata": {},
   "outputs": [],
   "source": [
    "iris=pd.read_csv(\"C:\\\\Users\\\\Rahul Patwal Rajput\\\\Downloads\\\\archive (1)\\\\IRIS.csv\")"
   ]
  },
  {
   "cell_type": "markdown",
   "id": "fa424891",
   "metadata": {},
   "source": [
    "# Understanding the data"
   ]
  },
  {
   "cell_type": "code",
   "execution_count": 146,
   "id": "543b0c47",
   "metadata": {},
   "outputs": [
    {
     "data": {
      "text/html": [
       "<div>\n",
       "<style scoped>\n",
       "    .dataframe tbody tr th:only-of-type {\n",
       "        vertical-align: middle;\n",
       "    }\n",
       "\n",
       "    .dataframe tbody tr th {\n",
       "        vertical-align: top;\n",
       "    }\n",
       "\n",
       "    .dataframe thead th {\n",
       "        text-align: right;\n",
       "    }\n",
       "</style>\n",
       "<table border=\"1\" class=\"dataframe\">\n",
       "  <thead>\n",
       "    <tr style=\"text-align: right;\">\n",
       "      <th></th>\n",
       "      <th>sepal_length</th>\n",
       "      <th>sepal_width</th>\n",
       "      <th>petal_length</th>\n",
       "      <th>petal_width</th>\n",
       "      <th>species</th>\n",
       "    </tr>\n",
       "  </thead>\n",
       "  <tbody>\n",
       "    <tr>\n",
       "      <th>0</th>\n",
       "      <td>5.1</td>\n",
       "      <td>3.5</td>\n",
       "      <td>1.4</td>\n",
       "      <td>0.2</td>\n",
       "      <td>Iris-setosa</td>\n",
       "    </tr>\n",
       "    <tr>\n",
       "      <th>1</th>\n",
       "      <td>4.9</td>\n",
       "      <td>3.0</td>\n",
       "      <td>1.4</td>\n",
       "      <td>0.2</td>\n",
       "      <td>Iris-setosa</td>\n",
       "    </tr>\n",
       "    <tr>\n",
       "      <th>2</th>\n",
       "      <td>4.7</td>\n",
       "      <td>3.2</td>\n",
       "      <td>1.3</td>\n",
       "      <td>0.2</td>\n",
       "      <td>Iris-setosa</td>\n",
       "    </tr>\n",
       "    <tr>\n",
       "      <th>3</th>\n",
       "      <td>4.6</td>\n",
       "      <td>3.1</td>\n",
       "      <td>1.5</td>\n",
       "      <td>0.2</td>\n",
       "      <td>Iris-setosa</td>\n",
       "    </tr>\n",
       "    <tr>\n",
       "      <th>4</th>\n",
       "      <td>5.0</td>\n",
       "      <td>3.6</td>\n",
       "      <td>1.4</td>\n",
       "      <td>0.2</td>\n",
       "      <td>Iris-setosa</td>\n",
       "    </tr>\n",
       "  </tbody>\n",
       "</table>\n",
       "</div>"
      ],
      "text/plain": [
       "   sepal_length  sepal_width  petal_length  petal_width      species\n",
       "0           5.1          3.5           1.4          0.2  Iris-setosa\n",
       "1           4.9          3.0           1.4          0.2  Iris-setosa\n",
       "2           4.7          3.2           1.3          0.2  Iris-setosa\n",
       "3           4.6          3.1           1.5          0.2  Iris-setosa\n",
       "4           5.0          3.6           1.4          0.2  Iris-setosa"
      ]
     },
     "execution_count": 146,
     "metadata": {},
     "output_type": "execute_result"
    }
   ],
   "source": [
    "iris.head()"
   ]
  },
  {
   "cell_type": "code",
   "execution_count": 147,
   "id": "3c83acd0",
   "metadata": {},
   "outputs": [
    {
     "data": {
      "text/html": [
       "<div>\n",
       "<style scoped>\n",
       "    .dataframe tbody tr th:only-of-type {\n",
       "        vertical-align: middle;\n",
       "    }\n",
       "\n",
       "    .dataframe tbody tr th {\n",
       "        vertical-align: top;\n",
       "    }\n",
       "\n",
       "    .dataframe thead th {\n",
       "        text-align: right;\n",
       "    }\n",
       "</style>\n",
       "<table border=\"1\" class=\"dataframe\">\n",
       "  <thead>\n",
       "    <tr style=\"text-align: right;\">\n",
       "      <th></th>\n",
       "      <th>sepal_length</th>\n",
       "      <th>sepal_width</th>\n",
       "      <th>petal_length</th>\n",
       "      <th>petal_width</th>\n",
       "      <th>species</th>\n",
       "    </tr>\n",
       "  </thead>\n",
       "  <tbody>\n",
       "    <tr>\n",
       "      <th>145</th>\n",
       "      <td>6.7</td>\n",
       "      <td>3.0</td>\n",
       "      <td>5.2</td>\n",
       "      <td>2.3</td>\n",
       "      <td>Iris-virginica</td>\n",
       "    </tr>\n",
       "    <tr>\n",
       "      <th>146</th>\n",
       "      <td>6.3</td>\n",
       "      <td>2.5</td>\n",
       "      <td>5.0</td>\n",
       "      <td>1.9</td>\n",
       "      <td>Iris-virginica</td>\n",
       "    </tr>\n",
       "    <tr>\n",
       "      <th>147</th>\n",
       "      <td>6.5</td>\n",
       "      <td>3.0</td>\n",
       "      <td>5.2</td>\n",
       "      <td>2.0</td>\n",
       "      <td>Iris-virginica</td>\n",
       "    </tr>\n",
       "    <tr>\n",
       "      <th>148</th>\n",
       "      <td>6.2</td>\n",
       "      <td>3.4</td>\n",
       "      <td>5.4</td>\n",
       "      <td>2.3</td>\n",
       "      <td>Iris-virginica</td>\n",
       "    </tr>\n",
       "    <tr>\n",
       "      <th>149</th>\n",
       "      <td>5.9</td>\n",
       "      <td>3.0</td>\n",
       "      <td>5.1</td>\n",
       "      <td>1.8</td>\n",
       "      <td>Iris-virginica</td>\n",
       "    </tr>\n",
       "  </tbody>\n",
       "</table>\n",
       "</div>"
      ],
      "text/plain": [
       "     sepal_length  sepal_width  petal_length  petal_width         species\n",
       "145           6.7          3.0           5.2          2.3  Iris-virginica\n",
       "146           6.3          2.5           5.0          1.9  Iris-virginica\n",
       "147           6.5          3.0           5.2          2.0  Iris-virginica\n",
       "148           6.2          3.4           5.4          2.3  Iris-virginica\n",
       "149           5.9          3.0           5.1          1.8  Iris-virginica"
      ]
     },
     "execution_count": 147,
     "metadata": {},
     "output_type": "execute_result"
    }
   ],
   "source": [
    "iris.tail()"
   ]
  },
  {
   "cell_type": "code",
   "execution_count": 148,
   "id": "67107fed",
   "metadata": {},
   "outputs": [
    {
     "data": {
      "text/plain": [
       "sepal_length    float64\n",
       "sepal_width     float64\n",
       "petal_length    float64\n",
       "petal_width     float64\n",
       "species          object\n",
       "dtype: object"
      ]
     },
     "execution_count": 148,
     "metadata": {},
     "output_type": "execute_result"
    }
   ],
   "source": [
    "iris.dtypes # datatype"
   ]
  },
  {
   "cell_type": "code",
   "execution_count": 149,
   "id": "cca02105",
   "metadata": {},
   "outputs": [
    {
     "name": "stdout",
     "output_type": "stream",
     "text": [
      "<class 'pandas.core.frame.DataFrame'>\n",
      "RangeIndex: 150 entries, 0 to 149\n",
      "Data columns (total 5 columns):\n",
      " #   Column        Non-Null Count  Dtype  \n",
      "---  ------        --------------  -----  \n",
      " 0   sepal_length  150 non-null    float64\n",
      " 1   sepal_width   150 non-null    float64\n",
      " 2   petal_length  150 non-null    float64\n",
      " 3   petal_width   150 non-null    float64\n",
      " 4   species       150 non-null    object \n",
      "dtypes: float64(4), object(1)\n",
      "memory usage: 6.0+ KB\n"
     ]
    }
   ],
   "source": [
    "iris.info()"
   ]
  },
  {
   "cell_type": "code",
   "execution_count": 150,
   "id": "84f6ddc8",
   "metadata": {},
   "outputs": [
    {
     "data": {
      "text/html": [
       "<div>\n",
       "<style scoped>\n",
       "    .dataframe tbody tr th:only-of-type {\n",
       "        vertical-align: middle;\n",
       "    }\n",
       "\n",
       "    .dataframe tbody tr th {\n",
       "        vertical-align: top;\n",
       "    }\n",
       "\n",
       "    .dataframe thead th {\n",
       "        text-align: right;\n",
       "    }\n",
       "</style>\n",
       "<table border=\"1\" class=\"dataframe\">\n",
       "  <thead>\n",
       "    <tr style=\"text-align: right;\">\n",
       "      <th></th>\n",
       "      <th>sepal_length</th>\n",
       "      <th>sepal_width</th>\n",
       "      <th>petal_length</th>\n",
       "      <th>petal_width</th>\n",
       "    </tr>\n",
       "  </thead>\n",
       "  <tbody>\n",
       "    <tr>\n",
       "      <th>count</th>\n",
       "      <td>150.000000</td>\n",
       "      <td>150.000000</td>\n",
       "      <td>150.000000</td>\n",
       "      <td>150.000000</td>\n",
       "    </tr>\n",
       "    <tr>\n",
       "      <th>mean</th>\n",
       "      <td>5.843333</td>\n",
       "      <td>3.054000</td>\n",
       "      <td>3.758667</td>\n",
       "      <td>1.198667</td>\n",
       "    </tr>\n",
       "    <tr>\n",
       "      <th>std</th>\n",
       "      <td>0.828066</td>\n",
       "      <td>0.433594</td>\n",
       "      <td>1.764420</td>\n",
       "      <td>0.763161</td>\n",
       "    </tr>\n",
       "    <tr>\n",
       "      <th>min</th>\n",
       "      <td>4.300000</td>\n",
       "      <td>2.000000</td>\n",
       "      <td>1.000000</td>\n",
       "      <td>0.100000</td>\n",
       "    </tr>\n",
       "    <tr>\n",
       "      <th>25%</th>\n",
       "      <td>5.100000</td>\n",
       "      <td>2.800000</td>\n",
       "      <td>1.600000</td>\n",
       "      <td>0.300000</td>\n",
       "    </tr>\n",
       "    <tr>\n",
       "      <th>50%</th>\n",
       "      <td>5.800000</td>\n",
       "      <td>3.000000</td>\n",
       "      <td>4.350000</td>\n",
       "      <td>1.300000</td>\n",
       "    </tr>\n",
       "    <tr>\n",
       "      <th>75%</th>\n",
       "      <td>6.400000</td>\n",
       "      <td>3.300000</td>\n",
       "      <td>5.100000</td>\n",
       "      <td>1.800000</td>\n",
       "    </tr>\n",
       "    <tr>\n",
       "      <th>max</th>\n",
       "      <td>7.900000</td>\n",
       "      <td>4.400000</td>\n",
       "      <td>6.900000</td>\n",
       "      <td>2.500000</td>\n",
       "    </tr>\n",
       "  </tbody>\n",
       "</table>\n",
       "</div>"
      ],
      "text/plain": [
       "       sepal_length  sepal_width  petal_length  petal_width\n",
       "count    150.000000   150.000000    150.000000   150.000000\n",
       "mean       5.843333     3.054000      3.758667     1.198667\n",
       "std        0.828066     0.433594      1.764420     0.763161\n",
       "min        4.300000     2.000000      1.000000     0.100000\n",
       "25%        5.100000     2.800000      1.600000     0.300000\n",
       "50%        5.800000     3.000000      4.350000     1.300000\n",
       "75%        6.400000     3.300000      5.100000     1.800000\n",
       "max        7.900000     4.400000      6.900000     2.500000"
      ]
     },
     "execution_count": 150,
     "metadata": {},
     "output_type": "execute_result"
    }
   ],
   "source": [
    "iris.describe() # It shows the statistical summary"
   ]
  },
  {
   "cell_type": "code",
   "execution_count": 151,
   "id": "d2cf7932",
   "metadata": {},
   "outputs": [
    {
     "data": {
      "text/plain": [
       "Index(['sepal_length', 'sepal_width', 'petal_length', 'petal_width',\n",
       "       'species'],\n",
       "      dtype='object')"
      ]
     },
     "execution_count": 151,
     "metadata": {},
     "output_type": "execute_result"
    }
   ],
   "source": [
    "iris.columns"
   ]
  },
  {
   "cell_type": "code",
   "execution_count": 152,
   "id": "00b6f01d",
   "metadata": {},
   "outputs": [
    {
     "data": {
      "text/plain": [
       "(150, 5)"
      ]
     },
     "execution_count": 152,
     "metadata": {},
     "output_type": "execute_result"
    }
   ],
   "source": [
    "iris.shape # Rows=150 & columns=5"
   ]
  },
  {
   "cell_type": "code",
   "execution_count": 153,
   "id": "5c09d089",
   "metadata": {},
   "outputs": [
    {
     "data": {
      "text/plain": [
       "sepal_length    0\n",
       "sepal_width     0\n",
       "petal_length    0\n",
       "petal_width     0\n",
       "species         0\n",
       "dtype: int64"
      ]
     },
     "execution_count": 153,
     "metadata": {},
     "output_type": "execute_result"
    }
   ],
   "source": [
    "iris.isna().sum() # here is no null values"
   ]
  },
  {
   "cell_type": "code",
   "execution_count": 154,
   "id": "66f53bd7",
   "metadata": {},
   "outputs": [
    {
     "data": {
      "text/plain": [
       "Iris-setosa        50\n",
       "Iris-versicolor    50\n",
       "Iris-virginica     50\n",
       "Name: species, dtype: int64"
      ]
     },
     "execution_count": 154,
     "metadata": {},
     "output_type": "execute_result"
    }
   ],
   "source": [
    "iris['species'].value_counts()"
   ]
  },
  {
   "cell_type": "code",
   "execution_count": 155,
   "id": "51f92710",
   "metadata": {},
   "outputs": [
    {
     "data": {
      "text/plain": [
       "<AxesSubplot:xlabel='sepal_length', ylabel='petal_length'>"
      ]
     },
     "execution_count": 155,
     "metadata": {},
     "output_type": "execute_result"
    },
    {
     "data": {
      "image/png": "[encoded data removed]",
      "text/plain": [
       "<Figure size 640x480 with 1 Axes>"
      ]
     },
     "metadata": {},
     "output_type": "display_data"
    }
   ],
   "source": [
    "sns.scatterplot(x=iris['sepal_length'],y=iris['petal_length'])"
   ]
  },
  {
   "cell_type": "code",
   "execution_count": 156,
   "id": "cc6e26f8",
   "metadata": {},
   "outputs": [
    {
     "data": {
      "text/plain": [
       "<AxesSubplot:xlabel='sepal_width', ylabel='petal_width'>"
      ]
     },
     "execution_count": 156,
     "metadata": {},
     "output_type": "execute_result"
    },
    {
     "data": {
      "image/png": "[encoded data removed]",
      "text/plain": [
       "<Figure size 640x480 with 1 Axes>"
      ]
     },
     "metadata": {},
     "output_type": "display_data"
    }
   ],
   "source": [
    "sns.scatterplot(x=iris['sepal_width'],y=iris['petal_width'],hue=iris['species'])"
   ]
  },
  {
   "cell_type": "code",
   "execution_count": 157,
   "id": "2691ba2f",
   "metadata": {},
   "outputs": [
    {
     "data": {
      "text/plain": [
       "<AxesSubplot:xlabel='sepal_length', ylabel='Count'>"
      ]
     },
     "execution_count": 157,
     "metadata": {},
     "output_type": "execute_result"
    },
    {
     "data": {
      "image/png": "[encoded data removed]",
      "text/plain": [
       "<Figure size 640x480 with 1 Axes>"
      ]
     },
     "metadata": {},
     "output_type": "display_data"
    }
   ],
   "source": [
    "sns.histplot(x=iris['sepal_length'],hue=iris['species'])"
   ]
  },
  {
   "cell_type": "code",
   "execution_count": 158,
   "id": "95f96ed4",
   "metadata": {},
   "outputs": [
    {
     "name": "stderr",
     "output_type": "stream",
     "text": [
      "C:\\Users\\Rahul Patwal Rajput\\anaconda3\\lib\\site-packages\\seaborn\\distributions.py:2619: FutureWarning: `distplot` is a deprecated function and will be removed in a future version. Please adapt your code to use either `displot` (a figure-level function with similar flexibility) or `histplot` (an axes-level function for histograms).\n",
      "  warnings.warn(msg, FutureWarning)\n"
     ]
    },
    {
     "data": {
      "text/plain": [
       "<AxesSubplot:ylabel='Density'>"
      ]
     },
     "execution_count": 158,
     "metadata": {},
     "output_type": "execute_result"
    },
    {
     "data": {
      "image/png": "[encoded data removed]",
      "text/plain": [
       "<Figure size 640x480 with 1 Axes>"
      ]
     },
     "metadata": {},
     "output_type": "display_data"
    }
   ],
   "source": [
    "sns.distplot(x=iris['sepal_width'])"
   ]
  },
  {
   "cell_type": "code",
   "execution_count": 159,
   "id": "ad9bd6a8",
   "metadata": {},
   "outputs": [
    {
     "data": {
      "text/plain": [
       "<seaborn.axisgrid.FacetGrid at 0x214b06442b0>"
      ]
     },
     "execution_count": 159,
     "metadata": {},
     "output_type": "execute_result"
    },
    {
     "data": {
      "image/png": "[encoded data removed]",
      "text/plain": [
       "<Figure size 500x500 with 1 Axes>"
      ]
     },
     "metadata": {},
     "output_type": "display_data"
    }
   ],
   "source": [
    "sns.displot(x=iris['petal_width'])"
   ]
  },
  {
   "cell_type": "code",
   "execution_count": 160,
   "id": "4803fd33",
   "metadata": {},
   "outputs": [
    {
     "data": {
      "text/plain": [
       "<AxesSubplot:xlabel='species', ylabel='count'>"
      ]
     },
     "execution_count": 160,
     "metadata": {},
     "output_type": "execute_result"
    },
    {
     "data": {
      "image/png": "[encoded data removed]",
      "text/plain": [
       "<Figure size 640x480 with 1 Axes>"
      ]
     },
     "metadata": {},
     "output_type": "display_data"
    }
   ],
   "source": [
    "sns.countplot(x=iris['species'])"
   ]
  },
  {
   "cell_type": "code",
   "execution_count": 161,
   "id": "3d8043e9",
   "metadata": {},
   "outputs": [],
   "source": [
    "flower=iris.groupby('species')['sepal_length'].mean()"
   ]
  },
  {
   "cell_type": "code",
   "execution_count": 162,
   "id": "38007852",
   "metadata": {},
   "outputs": [
    {
     "data": {
      "text/plain": [
       "<AxesSubplot:xlabel='species'>"
      ]
     },
     "execution_count": 162,
     "metadata": {},
     "output_type": "execute_result"
    },
    {
     "data": {
      "image/png": "[encoded data removed]",
      "text/plain": [
       "<Figure size 640x480 with 1 Axes>"
      ]
     },
     "metadata": {},
     "output_type": "display_data"
    }
   ],
   "source": [
    "sns.barplot(x=flower.index,y=flower.values)"
   ]
  },
  {
   "cell_type": "code",
   "execution_count": 163,
   "id": "ff23f666",
   "metadata": {},
   "outputs": [
    {
     "data": {
      "text/html": [
       "<div>\n",
       "<style scoped>\n",
       "    .dataframe tbody tr th:only-of-type {\n",
       "        vertical-align: middle;\n",
       "    }\n",
       "\n",
       "    .dataframe tbody tr th {\n",
       "        vertical-align: top;\n",
       "    }\n",
       "\n",
       "    .dataframe thead th {\n",
       "        text-align: right;\n",
       "    }\n",
       "</style>\n",
       "<table border=\"1\" class=\"dataframe\">\n",
       "  <thead>\n",
       "    <tr style=\"text-align: right;\">\n",
       "      <th></th>\n",
       "      <th>sepal_length</th>\n",
       "      <th>sepal_width</th>\n",
       "      <th>petal_length</th>\n",
       "      <th>petal_width</th>\n",
       "    </tr>\n",
       "  </thead>\n",
       "  <tbody>\n",
       "    <tr>\n",
       "      <th>sepal_length</th>\n",
       "      <td>1.000000</td>\n",
       "      <td>-0.109369</td>\n",
       "      <td>0.871754</td>\n",
       "      <td>0.817954</td>\n",
       "    </tr>\n",
       "    <tr>\n",
       "      <th>sepal_width</th>\n",
       "      <td>-0.109369</td>\n",
       "      <td>1.000000</td>\n",
       "      <td>-0.420516</td>\n",
       "      <td>-0.356544</td>\n",
       "    </tr>\n",
       "    <tr>\n",
       "      <th>petal_length</th>\n",
       "      <td>0.871754</td>\n",
       "      <td>-0.420516</td>\n",
       "      <td>1.000000</td>\n",
       "      <td>0.962757</td>\n",
       "    </tr>\n",
       "    <tr>\n",
       "      <th>petal_width</th>\n",
       "      <td>0.817954</td>\n",
       "      <td>-0.356544</td>\n",
       "      <td>0.962757</td>\n",
       "      <td>1.000000</td>\n",
       "    </tr>\n",
       "  </tbody>\n",
       "</table>\n",
       "</div>"
      ],
      "text/plain": [
       "              sepal_length  sepal_width  petal_length  petal_width\n",
       "sepal_length      1.000000    -0.109369      0.871754     0.817954\n",
       "sepal_width      -0.109369     1.000000     -0.420516    -0.356544\n",
       "petal_length      0.871754    -0.420516      1.000000     0.962757\n",
       "petal_width       0.817954    -0.356544      0.962757     1.000000"
      ]
     },
     "execution_count": 163,
     "metadata": {},
     "output_type": "execute_result"
    }
   ],
   "source": [
    "corrdf=iris.corr()\n",
    "corrdf"
   ]
  },
  {
   "cell_type": "code",
   "execution_count": 164,
   "id": "7251c55a",
   "metadata": {},
   "outputs": [
    {
     "data": {
      "text/plain": [
       "<AxesSubplot:>"
      ]
     },
     "execution_count": 164,
     "metadata": {},
     "output_type": "execute_result"
    },
    {
     "data": {
      "image/png": "[encoded data removed]",
      "text/plain": [
       "<Figure size 640x480 with 2 Axes>"
      ]
     },
     "metadata": {},
     "output_type": "display_data"
    }
   ],
   "source": [
    "sns.heatmap(corrdf,annot=True)"
   ]
  },
  {
   "cell_type": "code",
   "execution_count": 165,
   "id": "3f23cd1c",
   "metadata": {},
   "outputs": [
    {
     "data": {
      "text/plain": [
       "<AxesSubplot:xlabel='sepal_width'>"
      ]
     },
     "execution_count": 165,
     "metadata": {},
     "output_type": "execute_result"
    },
    {
     "data": {
      "image/png": "[encoded data removed]",
      "text/plain": [
       "<Figure size 640x480 with 1 Axes>"
      ]
     },
     "metadata": {},
     "output_type": "display_data"
    }
   ],
   "source": [
    "sns.boxplot(x=iris['sepal_width'])"
   ]
  },
  {
   "cell_type": "markdown",
   "id": "b1d831df",
   "metadata": {},
   "source": [
    "# Outliers Treatment"
   ]
  },
  {
   "cell_type": "code",
   "execution_count": 166,
   "id": "45b4aa5a",
   "metadata": {},
   "outputs": [
    {
     "data": {
      "text/plain": [
       "Index(['sepal_length', 'sepal_width', 'petal_length', 'petal_width'], dtype='object')"
      ]
     },
     "execution_count": 166,
     "metadata": {},
     "output_type": "execute_result"
    }
   ],
   "source": [
    "contvar=iris.columns[iris.dtypes!='O']\n",
    "contvar"
   ]
  },
  {
   "cell_type": "code",
   "execution_count": 167,
   "id": "cb2a602d",
   "metadata": {},
   "outputs": [],
   "source": [
    "for col in contvar:\n",
    "    if col!='species':\n",
    "        Q1=np.percentile(iris[col],25)\n",
    "        Q3=np.percentile(iris[col],75)\n",
    "        IQR=Q3-Q1\n",
    "        LowerBound=Q1-1.5*IQR\n",
    "        UpperBound=Q3+1.5*IQR\n",
    "        UpperBound\n",
    "        iris[col]=np.where(iris[col]<LowerBound,LowerBound,iris[col])\n",
    "        iris[col]=np.where(iris[col]>UpperBound,UpperBound,iris[col])"
   ]
  },
  {
   "cell_type": "code",
   "execution_count": 168,
   "id": "17c4df99",
   "metadata": {},
   "outputs": [
    {
     "data": {
      "text/plain": [
       "<AxesSubplot:xlabel='sepal_width'>"
      ]
     },
     "execution_count": 168,
     "metadata": {},
     "output_type": "execute_result"
    },
    {
     "data": {
      "image/png": "[encoded data removed]",
      "text/plain": [
       "<Figure size 640x480 with 1 Axes>"
      ]
     },
     "metadata": {},
     "output_type": "display_data"
    }
   ],
   "source": [
    "sns.boxplot(x=iris['sepal_width'])"
   ]
  },
  {
   "cell_type": "markdown",
   "id": "5d48b79b",
   "metadata": {},
   "source": [
    "# Iris Flower Classifiaction"
   ]
  },
  {
   "cell_type": "code",
   "execution_count": 178,
   "id": "4a0a8fda",
   "metadata": {},
   "outputs": [],
   "source": [
    "from sklearn.model_selection import train_test_split\n",
    "from sklearn.preprocessing import StandardScaler\n",
    "from sklearn.metrics import accuracy_score\n",
    "from sklearn.pipeline import Pipeline\n",
    "from sklearn.metrics import classification_report\n",
    "from sklearn.neighbors import KNeighborsClassifier\n"
   ]
  },
  {
   "cell_type": "code",
   "execution_count": 173,
   "id": "81b2a717",
   "metadata": {},
   "outputs": [],
   "source": [
    "x=iris[['sepal_length','sepal_width','petal_length','petal_width']]\n",
    "y=iris['species']"
   ]
  },
  {
   "cell_type": "markdown",
   "id": "a69313a9",
   "metadata": {},
   "source": [
    "# Train_Test_Split"
   ]
  },
  {
   "cell_type": "code",
   "execution_count": 174,
   "id": "72c34309",
   "metadata": {},
   "outputs": [
    {
     "name": "stdout",
     "output_type": "stream",
     "text": [
      "x_test (120, 4)\n",
      "y_test (120,)\n",
      "x_train (30, 4)\n",
      "y_train (120,)\n"
     ]
    }
   ],
   "source": [
    "x_test,x_train,y_test,y_train=train_test_split(x,y,test_size=0.2,random_state=0)\n",
    "print('x_test',x_test.shape)\n",
    "print('y_test',y_test.shape)\n",
    "print('x_train',x_train.shape)\n",
    "print('y_train',y_test.shape)"
   ]
  },
  {
   "cell_type": "code",
   "execution_count": 175,
   "id": "50c29c42",
   "metadata": {},
   "outputs": [],
   "source": [
    "scaler= StandardScaler()\n",
    "x_train_scale=scaler.fit_transform (x_train)\n",
    "x_test_scale=scaler.transform(x_test)"
   ]
  },
  {
   "cell_type": "code",
   "execution_count": 176,
   "id": "b7dfdf04",
   "metadata": {},
   "outputs": [
    {
     "data": {
      "text/plain": [
       "(array([[ 0.14956537, -0.58817233,  0.94512598,  1.91948971],\n",
       "        [ 0.43000045, -1.99043747,  0.2829358 , -0.10102577],\n",
       "        [-0.27108724,  2.3332134 , -1.28224097, -1.25560605],\n",
       "        [ 2.25282843, -0.35446147,  1.66751526,  1.0535545 ],\n",
       "        [-0.97217492,  0.81409282, -1.22204187, -1.25560605],\n",
       "        [ 0.85065306,  0.58038196,  1.48691794,  2.06381224],\n",
       "        [-0.97217492,  1.04780368, -1.34244008, -1.11128352],\n",
       "        [ 1.41152321,  0.11296025,  0.70432955,  0.6205869 ],\n",
       "        [ 1.55174074, -0.58817233,  0.76452866,  0.47626436],\n",
       "        [ 0.57021798, -0.58817233,  0.2829358 ,  0.33194183],\n",
       "        [ 0.57021798, -1.05559404,  1.24612151,  0.47626436],\n",
       "        [ 0.9908706 ,  0.34667111,  0.58393134,  0.6205869 ],\n",
       "        [ 0.57021798, -0.58817233,  0.70432955,  0.18761929],\n",
       "        [ 1.13108813, -0.58817233,  0.64413044,  0.6205869 ],\n",
       "        [ 0.57021798, -0.35446147,  0.70432955,  0.47626436],\n",
       "        [-1.11239246,  0.11296025, -1.22204187, -1.39992858],\n",
       "        [ 0.43000045, -0.35446147,  0.58393134,  0.6205869 ],\n",
       "        [-0.27108724, -1.05559404,  0.52373223,  0.18761929],\n",
       "        [-1.25261   , -0.12075061, -1.28224097, -1.11128352],\n",
       "        [-0.41130478,  1.98264711, -1.34244008, -0.96696098],\n",
       "        [-0.1308697 , -0.58817233,  0.82472776,  1.34219957],\n",
       "        [-0.1308697 , -0.12075061,  0.58393134,  0.6205869 ],\n",
       "        [-1.25261   ,  0.81409282, -0.98124544, -1.25560605],\n",
       "        [-1.81348015, -0.35446147, -1.28224097, -1.25560605],\n",
       "        [ 0.71043552, -0.58817233,  0.76452866,  1.0535545 ],\n",
       "        [-1.53304507,  1.28151454, -1.5230374 , -1.25560605],\n",
       "        [-0.83195739,  1.74893625, -0.98124544, -0.96696098],\n",
       "        [ 0.71043552, -0.35446147,  0.46353312,  0.33194183],\n",
       "        [-0.97217492, -1.75672661, -0.13845795, -0.10102577],\n",
       "        [-0.97217492,  0.81409282, -1.16184276, -0.96696098]]),\n",
       " array([[ 0.9908706 ,  0.11296025,  1.1859224 ,  1.0535545 ],\n",
       "        [-0.41130478, -0.12075061,  0.58393134,  0.6205869 ],\n",
       "        [-0.69173985,  1.04780368, -1.22204187, -1.25560605],\n",
       "        [ 0.57021798, -0.12075061,  0.82472776,  1.0535545 ],\n",
       "        [ 0.9908706 , -0.58817233,  1.24612151,  1.63084464],\n",
       "        [-0.69173985, -0.82188318,  0.22273669,  0.47626436],\n",
       "        [ 0.00934784,  1.74893625, -1.10164365, -1.11128352],\n",
       "        [ 0.43000045, -0.82188318,  0.94512598,  0.76490943],\n",
       "        [ 0.28978291, -0.12075061,  0.40333402,  0.6205869 ],\n",
       "        [ 0.14956537, -1.05559404,  0.2829358 ,  0.18761929],\n",
       "        [ 1.55174074, -0.12075061,  1.1859224 ,  1.48652211],\n",
       "        [-1.39282754,  0.34667111, -1.34244008, -1.25560605],\n",
       "        [ 1.69195828,  0.11296025,  0.94512598,  1.77516717],\n",
       "        [-0.97217492,  1.04780368, -1.16184276, -0.67831591],\n",
       "        [-0.41130478,  1.51522539, -1.22204187, -1.25560605],\n",
       "        [-0.97217492, -2.34100376, -0.01805973, -0.10102577],\n",
       "        [ 1.13108813, -0.12075061,  1.1859224 ,  1.0535545 ],\n",
       "        [ 1.41152321,  0.58038196,  1.30632062,  2.06381224],\n",
       "        [ 0.43000045, -1.99043747,  0.88492687,  0.6205869 ],\n",
       "        [ 1.41152321, -1.2893049 ,  1.36651972,  1.0535545 ],\n",
       "        [-0.1308697 , -1.2893049 ,  0.22273669,  0.04329676],\n",
       "        [ 2.81369858, -0.12075061,  1.54711704,  1.77516717],\n",
       "        [ 0.85065306,  0.58038196,  0.70432955,  0.76490943],\n",
       "        [-0.27108724, -1.52301576,  0.16253759,  0.04329676],\n",
       "        [ 0.85065306, -0.82188318,  0.82472776,  1.0535545 ],\n",
       "        [ 0.85065306, -0.58817233,  0.94512598,  0.6205869 ],\n",
       "        [-1.11239246, -1.2893049 ,  0.58393134,  0.90923197],\n",
       "        [ 0.85065306, -1.2893049 ,  0.88492687,  1.19787704],\n",
       "        [ 1.83217582,  0.34667111,  0.70432955,  0.47626436],\n",
       "        [ 1.13108813, -0.12075061,  1.00532508,  1.34219957],\n",
       "        [ 0.43000045,  0.81409282,  0.58393134,  0.76490943],\n",
       "        [-1.25261   ,  0.11296025, -1.16184276, -1.25560605],\n",
       "        [ 0.14956537, -0.82188318,  0.94512598,  1.19787704],\n",
       "        [-0.1308697 , -0.82188318,  0.40333402,  0.33194183],\n",
       "        [-0.1308697 , -0.35446147,  0.04213937,  0.33194183],\n",
       "        [-0.27108724, -1.2893049 ,  0.2829358 ,  0.33194183],\n",
       "        [ 0.57021798, -0.12075061,  0.64413044,  0.47626436],\n",
       "        [ 2.11261089,  0.34667111,  1.48691794,  1.0535545 ],\n",
       "        [-0.55152231,  1.51522539, -1.22204187, -1.25560605],\n",
       "        [-1.95369768, -0.12075061, -1.46283829, -1.39992858],\n",
       "        [ 0.9908706 , -0.82188318,  1.06552419,  1.19787704],\n",
       "        [ 0.00934784, -0.12075061,  0.40333402,  0.18761929],\n",
       "        [-0.41130478,  0.81409282, -1.10164365, -1.25560605],\n",
       "        [ 0.00934784,  2.3332134 , -1.22204187, -0.96696098],\n",
       "        [ 1.69195828,  0.11296025,  0.82472776,  0.6205869 ],\n",
       "        [-1.53304507,  0.11296025, -1.22204187, -1.25560605],\n",
       "        [ 0.28978291, -0.12075061,  0.94512598,  1.0535545 ],\n",
       "        [-0.83195739, -1.2893049 , -0.31905527,  0.04329676],\n",
       "        [-1.53304507,  0.81409282, -1.28224097, -1.11128352],\n",
       "        [ 0.71043552, -1.99043747,  0.58393134,  0.6205869 ],\n",
       "        [ 2.11261089,  1.28151454,  1.54711704,  2.06381224],\n",
       "        [ 0.00934784, -0.35446147,  0.40333402,  0.33194183],\n",
       "        [-1.25261   , -0.12075061, -1.28224097, -1.39992858],\n",
       "        [ 1.97239336, -0.12075061,  1.42671883,  1.48652211],\n",
       "        [ 1.69195828,  0.34667111,  1.30632062,  1.77516717],\n",
       "        [ 1.13108813, -0.12075061,  1.36651972,  1.63084464],\n",
       "        [ 0.9908706 , -0.58817233,  1.24612151,  1.48652211],\n",
       "        [-0.83195739,  1.74893625, -1.16184276, -1.25560605],\n",
       "        [-1.25261   ,  0.81409282, -1.16184276, -1.25560605],\n",
       "        [ 1.13108813,  0.34667111,  0.94512598,  1.34219957],\n",
       "        [ 1.41152321,  0.58038196,  1.30632062,  1.48652211],\n",
       "        [-1.67326261, -1.75672661, -1.34244008, -1.11128352],\n",
       "        [ 0.71043552,  0.81409282,  1.1257233 ,  1.77516717],\n",
       "        [-1.11239246, -0.12075061, -1.28224097, -1.25560605],\n",
       "        [ 0.00934784, -1.2893049 ,  0.88492687,  1.34219957],\n",
       "        [ 1.69195828,  0.11296025,  1.1257233 ,  1.48652211],\n",
       "        [-1.81348015,  0.34667111, -1.34244008, -1.25560605],\n",
       "        [-0.97217492,  1.28151454, -1.28224097, -1.25560605],\n",
       "        [ 2.11261089, -0.12075061,  1.36651972,  0.76490943],\n",
       "        [-0.83195739,  1.04780368, -1.28224097, -1.11128352],\n",
       "        [-1.81348015, -0.12075061, -1.34244008, -1.25560605],\n",
       "        [-0.41130478,  1.98264711, -1.10164365, -0.96696098],\n",
       "        [-0.27108724, -1.75672661,  0.2829358 ,  0.33194183],\n",
       "        [ 1.55174074,  0.34667111,  1.42671883,  1.77516717],\n",
       "        [ 2.67348104, -0.12075061,  1.84811258,  1.48652211],\n",
       "        [-0.83195739,  1.04780368, -1.28224097, -1.25560605],\n",
       "        [-1.11239246,  0.11296025, -1.22204187, -1.39992858],\n",
       "        [-0.69173985,  0.81409282, -1.28224097, -1.25560605],\n",
       "        [ 0.00934784, -0.58817233,  0.58393134,  0.33194183],\n",
       "        [ 1.27130567, -0.12075061,  0.52373223,  0.47626436],\n",
       "        [-0.97217492,  0.34667111, -1.40263919, -1.25560605],\n",
       "        [-0.83195739,  0.58038196, -1.10164365, -0.82263845],\n",
       "        [ 0.9908706 , -0.35446147,  0.46353312,  0.33194183],\n",
       "        [-0.41130478,  0.81409282, -1.22204187, -0.96696098],\n",
       "        [ 2.81369858, -1.05559404,  2.0287099 ,  1.77516717],\n",
       "        [-1.11239246, -1.52301576, -0.13845795, -0.10102577],\n",
       "        [ 3.09413365,  1.74893625,  1.72771436,  1.34219957],\n",
       "        [ 1.41152321,  0.11296025,  0.52373223,  0.47626436],\n",
       "        [-0.69173985,  2.3332134 , -1.22204187, -1.39992858],\n",
       "        [ 0.43000045, -0.12075061,  0.76452866,  1.0535545 ],\n",
       "        [ 0.14956537,  2.21635797, -1.40263919, -1.25560605],\n",
       "        [ 2.81369858, -0.58817233,  1.90831168,  1.34219957],\n",
       "        [-0.83195739,  1.74893625, -1.22204187, -1.11128352],\n",
       "        [-1.39282754,  0.34667111, -1.16184276, -1.25560605],\n",
       "        [ 2.39304597, -0.58817233,  1.54711704,  1.19787704],\n",
       "        [-0.97217492,  0.58038196, -1.28224097, -1.25560605],\n",
       "        [ 0.85065306,  0.81409282,  1.24612151,  1.91948971],\n",
       "        [ 0.00934784, -0.58817233,  0.34313491,  0.33194183],\n",
       "        [ 0.14956537, -0.82188318,  0.22273669,  0.18761929],\n",
       "        [ 0.00934784, -1.05559404, -0.01805973, -0.10102577],\n",
       "        [ 0.9908706 ,  0.34667111,  1.06552419,  1.77516717],\n",
       "        [ 1.41152321, -0.12075061,  1.00532508,  1.77516717],\n",
       "        [ 0.85065306, -1.2893049 ,  0.82472776,  0.6205869 ],\n",
       "        [ 1.41152321, -0.12075061,  0.88492687,  0.90923197],\n",
       "        [-0.97217492, -0.12075061, -1.16184276, -1.25560605],\n",
       "        [-0.27108724, -1.52301576,  0.10233848, -0.10102577],\n",
       "        [ 1.41152321,  0.11296025,  1.24612151,  1.91948971],\n",
       "        [ 0.14956537, -0.82188318,  0.94512598,  1.19787704],\n",
       "        [-0.83195739,  0.81409282, -1.22204187, -1.25560605],\n",
       "        [ 1.27130567, -0.35446147,  0.64413044,  0.33194183],\n",
       "        [-0.1308697 , -0.12075061,  0.34313491,  0.33194183],\n",
       "        [ 0.28978291,  0.34667111,  0.76452866,  1.0535545 ],\n",
       "        [ 0.85065306, -1.75672661,  0.52373223,  0.33194183],\n",
       "        [-0.27108724,  1.04780368, -1.34244008, -1.25560605],\n",
       "        [-0.83195739,  1.51522539, -1.22204187, -0.96696098],\n",
       "        [-1.11239246,  0.11296025, -1.22204187, -1.39992858],\n",
       "        [ 0.85065306, -0.35446147,  1.24612151,  1.0535545 ],\n",
       "        [ 0.14956537, -0.82188318,  0.34313491, -0.10102577],\n",
       "        [ 2.81369858,  1.74893625,  1.90831168,  1.63084464],\n",
       "        [-1.53304507,  0.34667111, -1.28224097, -1.25560605]]))"
      ]
     },
     "execution_count": 176,
     "metadata": {},
     "output_type": "execute_result"
    }
   ],
   "source": [
    "x_train_scale,x_test_scale"
   ]
  },
  {
   "cell_type": "code",
   "execution_count": 183,
   "id": "4d1efecd",
   "metadata": {},
   "outputs": [
    {
     "data": {
      "text/plain": [
       "KNeighborsClassifier(n_neighbors=3)"
      ]
     },
     "execution_count": 183,
     "metadata": {},
     "output_type": "execute_result"
    }
   ],
   "source": [
    "knnclassifier = KNeighborsClassifier(n_neighbors=3)\n",
    "knnclassifier"
   ]
  },
  {
   "cell_type": "code",
   "execution_count": 184,
   "id": "9a4e739e",
   "metadata": {},
   "outputs": [
    {
     "data": {
      "text/plain": [
       "KNeighborsClassifier(n_neighbors=3)"
      ]
     },
     "execution_count": 184,
     "metadata": {},
     "output_type": "execute_result"
    }
   ],
   "source": [
    "knnclassifier.fit(x_train_scale,y_train)"
   ]
  },
  {
   "cell_type": "code",
   "execution_count": 186,
   "id": "143faa75",
   "metadata": {},
   "outputs": [
    {
     "name": "stderr",
     "output_type": "stream",
     "text": [
      "C:\\Users\\Rahul Patwal Rajput\\anaconda3\\lib\\site-packages\\sklearn\\neighbors\\_classification.py:228: FutureWarning: Unlike other reduction functions (e.g. `skew`, `kurtosis`), the default behavior of `mode` typically preserves the axis it acts along. In SciPy 1.11.0, this behavior will change: the default value of `keepdims` will become False, the `axis` over which the statistic is taken will be eliminated, and the value None will no longer be accepted. Set `keepdims` to True or False to avoid this warning.\n",
      "  mode, _ = stats.mode(_y[neigh_ind, k], axis=1)\n"
     ]
    }
   ],
   "source": [
    "pred=knnclassifier.predict(x_test_scale)"
   ]
  },
  {
   "cell_type": "code",
   "execution_count": 187,
   "id": "32f40d3b",
   "metadata": {},
   "outputs": [],
   "source": [
    "report=classification_report(y_test,pred)"
   ]
  },
  {
   "cell_type": "code",
   "execution_count": 189,
   "id": "15cb65cb",
   "metadata": {},
   "outputs": [
    {
     "name": "stdout",
     "output_type": "stream",
     "text": [
      "                 precision    recall  f1-score   support\n",
      "\n",
      "    Iris-setosa       1.00      1.00      1.00        39\n",
      "Iris-versicolor       0.62      0.95      0.75        37\n",
      " Iris-virginica       0.92      0.52      0.67        44\n",
      "\n",
      "       accuracy                           0.81       120\n",
      "      macro avg       0.85      0.82      0.81       120\n",
      "   weighted avg       0.86      0.81      0.80       120\n",
      "\n"
     ]
    }
   ],
   "source": [
    "print(report)"
   ]
  },
  {
   "cell_type": "code",
   "execution_count": null,
   "id": "7eef563b",
   "metadata": {},
   "outputs": [],
   "source": []
  }
 ],
 "metadata": {
  "kernelspec": {
   "display_name": "Python 3 (ipykernel)",
   "language": "python",
   "name": "python3"
  },
  "language_info": {
   "codemirror_mode": {
    "name": "ipython",
    "version": 3
   },
   "file_extension": ".py",
   "mimetype": "text/x-python",
   "name": "python",
   "nbconvert_exporter": "python",
   "pygments_lexer": "ipython3",
   "version": "3.9.13"
  }
 },
 "nbformat": 4,
 "nbformat_minor": 5
}
